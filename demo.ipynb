{
 "cells": [
  {
   "cell_type": "markdown",
   "metadata": {
    "colab_type": "text",
    "id": "cdO_RxQZLahB"
   },
   "source": [
    "# Demo for paper \"First Order Motion Model for Image Animation\""
   ]
  },
  {
   "cell_type": "markdown",
   "metadata": {
    "colab_type": "text",
    "id": "rW-ipQXPOWUo"
   },
   "source": [
    "**1. Сангуудыг дуудах**"
   ]
  },
  {
   "cell_type": "markdown",
   "metadata": {},
   "source": [
    "Хэрэв алдаа заавал \"requirements.txt\" дотор байгаа сангуудыг бүгдийн тохирох version-ий дагуу суулгасан эсэх ээ шалгана уу!"
   ]
  },
  {
   "cell_type": "code",
   "execution_count": null,
   "metadata": {
    "colab": {
     "base_uri": "https://localhost:8080/",
     "height": 453
    },
    "colab_type": "code",
    "id": "Oxi6-riLOgnm",
    "outputId": "df5ef72c-6133-4607-8684-045613fd81f2"
   },
   "outputs": [],
   "source": [
    "import imageio\n",
    "import numpy as np\n",
    "import matplotlib.pyplot as plt\n",
    "import matplotlib.animation as animation\n",
    "from skimage.transform import resize\n",
    "from IPython.display import HTML\n",
    "import warnings\n",
    "\n",
    "from demo import load_checkpoints\n",
    "from demo import make_animation\n",
    "from demo import display\n",
    "\n",
    "print ('Сангууд ачаалагдлаа!')"
   ]
  },
  {
   "cell_type": "markdown",
   "metadata": {},
   "source": [
    "**2. Хувиргах зураг болон дуурайх бичлэгийг load хийд авах**"
   ]
  },
  {
   "cell_type": "code",
   "execution_count": null,
   "metadata": {},
   "outputs": [],
   "source": [
    "source_image = imageio.imread('samples/thom.jpg')\n",
    "driving_video = imageio.mimread('samples/guyug_256.mp4', memtest=False)\n",
    "\n",
    "# Зураг болон бичлэгийг 256x256 хэмжээст буулгах\n",
    "resize_dims = 256\n",
    "\n",
    "source_image = resize(source_image, (resize_dims, resize_dims))[..., :3]\n",
    "driving_video = [resize(frame, (resize_dims, resize_dims))[..., :3] for frame in driving_video]\n",
    "\n",
    "print ('Санах ойнд хадгаллаа!')"
   ]
  },
  {
   "cell_type": "markdown",
   "metadata": {},
   "source": [
    "**3. Хувиргагч моделыг load хийх**"
   ]
  },
  {
   "cell_type": "code",
   "execution_count": null,
   "metadata": {
    "colab": {},
    "colab_type": "code",
    "id": "3FQiXqQPWt5B"
   },
   "outputs": [],
   "source": [
    "generator, kp_detector = load_checkpoints(config_path='config/vox-adv-256.yaml', \n",
    "                            checkpoint_path='checkpoints/vox-adv-cpk.pth.tar')"
   ]
  },
  {
   "cell_type": "markdown",
   "metadata": {},
   "source": [
    "**4. Хувирган харуулах**"
   ]
  },
  {
   "cell_type": "code",
   "execution_count": null,
   "metadata": {
    "colab": {
     "base_uri": "https://localhost:8080/",
     "height": 471
    },
    "colab_type": "code",
    "id": "SB12II11kF4c",
    "outputId": "c7f18b37-0d41-4761-e354-5b0c36cae30d"
   },
   "outputs": [],
   "source": [
    "predictions = make_animation(source_image, driving_video, generator, kp_detector, relative=True)\n",
    "\n",
    "HTML(display(source_image, driving_video, predictions).to_html5_video())"
   ]
  }
 ],
 "metadata": {
  "accelerator": "GPU",
  "colab": {
   "include_colab_link": true,
   "name": "first-order-model-demo.ipynb",
   "provenance": [],
   "toc_visible": true
  },
  "kernelspec": {
   "display_name": "Python 3",
   "language": "python",
   "name": "python3"
  },
  "language_info": {
   "codemirror_mode": {
    "name": "ipython",
    "version": 3
   },
   "file_extension": ".py",
   "mimetype": "text/x-python",
   "name": "python",
   "nbconvert_exporter": "python",
   "pygments_lexer": "ipython3",
   "version": "3.7.6"
  }
 },
 "nbformat": 4,
 "nbformat_minor": 4
}
